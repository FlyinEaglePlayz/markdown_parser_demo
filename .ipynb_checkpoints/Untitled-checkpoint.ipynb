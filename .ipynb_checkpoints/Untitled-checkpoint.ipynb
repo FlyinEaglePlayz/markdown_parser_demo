{
 "cells": [
  {
   "cell_type": "code",
   "execution_count": 3,
   "id": "e5d40a55-325f-4fb6-9685-3fe45202afb9",
   "metadata": {},
   "outputs": [
    {
     "name": "stdout",
     "output_type": "stream",
     "text": [
      "          Name             Title                    Email\n",
      "0   John Smith   Project Manager   john.smith@example.com\n",
      "1  Alice Brown  Senior Developer  alice.brown@company.org\n"
     ]
    }
   ],
   "source": [
    "import re\n",
    "import markdown2\n",
    "import pandas as pd\n",
    "\n",
    "# Read the Markdown file\n",
    "with open(\"sample.md\", \"r\") as f:\n",
    "    md_content = f.read()\n",
    "\n",
    "# Convert Markdown to plain text\n",
    "plain_text = markdown2.markdown(md_content)\n",
    "plain_text = re.sub(r'<[^>]+>', '', plain_text)  # Remove HTML tags\n",
    "\n",
    "# Regex patterns\n",
    "name_pattern = r\"Name:\\s*(.*)\"\n",
    "title_pattern = r\"Title:\\s*(.*)\"\n",
    "email_pattern = r\"Email:\\s*([\\w\\.-]+@[\\w\\.-]+\\.\\w+)\"\n",
    "\n",
    "# Find all matches\n",
    "names = re.findall(name_pattern, plain_text)\n",
    "titles = re.findall(title_pattern, plain_text)\n",
    "emails = re.findall(email_pattern, plain_text)\n",
    "\n",
    "# Output results\n",
    "data = list(zip(names, titles, emails))\n",
    "df = pd.DataFrame(data, columns=[\"Name\", \"Title\", \"Email\"])\n",
    "print(df)\n",
    "\n",
    "# Optional: Save to CSV\n",
    "df.to_csv(\"extracted_data.csv\", index=False)\n"
   ]
  }
 ],
 "metadata": {
  "kernelspec": {
   "display_name": "Markdown Parser venv",
   "language": "python",
   "name": "venv"
  },
  "language_info": {
   "codemirror_mode": {
    "name": "ipython",
    "version": 3
   },
   "file_extension": ".py",
   "mimetype": "text/x-python",
   "name": "python",
   "nbconvert_exporter": "python",
   "pygments_lexer": "ipython3",
   "version": "3.11.2"
  }
 },
 "nbformat": 4,
 "nbformat_minor": 5
}
